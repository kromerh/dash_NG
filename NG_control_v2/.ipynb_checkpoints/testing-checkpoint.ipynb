{
 "cells": [
  {
   "cell_type": "code",
   "execution_count": 49,
   "metadata": {},
   "outputs": [],
   "source": [
    "import pandas as pd\n",
    "\n",
    "# read password and user to database\n",
    "credentials_file = r'./credentials.pw'\n",
    "credentials = pd.read_csv(credentials_file, header=0)\n",
    "user = credentials['username'].values[0]\n",
    "pw = credentials['password'].values[0]\n"
   ]
  },
  {
   "cell_type": "code",
   "execution_count": 50,
   "metadata": {},
   "outputs": [
    {
     "data": {
      "text/plain": [
       "0"
      ]
     },
     "execution_count": 50,
     "metadata": {},
     "output_type": "execute_result"
    }
   ],
   "source": [
    "11%11"
   ]
  },
  {
   "cell_type": "code",
   "execution_count": 51,
   "metadata": {},
   "outputs": [],
   "source": [
    "numbers = [ii for ii in range(1,101)]\n",
    "primes = []\n",
    "\n",
    "def isPrime(number):\n",
    "    rest = []\n",
    "    for jj in range(2,number):\n",
    "        rest.append(number%jj)\n",
    "    if 0 in rest:\n",
    "        return False\n",
    "    else: \n",
    "        return True\n",
    "            \n",
    "\n",
    "for n in numbers:\n",
    "    if isPrime(n) == 1:\n",
    "        primes.append(n)"
   ]
  },
  {
   "cell_type": "code",
   "execution_count": 52,
   "metadata": {},
   "outputs": [
    {
     "data": {
      "text/plain": [
       "[1,\n",
       " 2,\n",
       " 3,\n",
       " 5,\n",
       " 7,\n",
       " 11,\n",
       " 13,\n",
       " 17,\n",
       " 19,\n",
       " 23,\n",
       " 29,\n",
       " 31,\n",
       " 37,\n",
       " 41,\n",
       " 43,\n",
       " 47,\n",
       " 53,\n",
       " 59,\n",
       " 61,\n",
       " 67,\n",
       " 71,\n",
       " 73,\n",
       " 79,\n",
       " 83,\n",
       " 89,\n",
       " 97]"
      ]
     },
     "execution_count": 52,
     "metadata": {},
     "output_type": "execute_result"
    }
   ],
   "source": [
    "primes"
   ]
  },
  {
   "cell_type": "code",
   "execution_count": 53,
   "metadata": {},
   "outputs": [
    {
     "ename": "OperationalError",
     "evalue": "(2003, \"Can't connect to MySQL server on 'twofast-RPi3-0' ([Errno 8] nodename nor servname provided, or not known)\")",
     "output_type": "error",
     "traceback": [
      "\u001b[0;31m---------------------------------------------------------------------------\u001b[0m",
      "\u001b[0;31mgaierror\u001b[0m                                  Traceback (most recent call last)",
      "\u001b[0;32m~/anaconda3/envs/dash_readout/lib/python3.7/site-packages/pymysql/connections.py\u001b[0m in \u001b[0;36mconnect\u001b[0;34m(self, sock)\u001b[0m\n\u001b[1;32m    582\u001b[0m                                 \u001b[0;34m(\u001b[0m\u001b[0mself\u001b[0m\u001b[0;34m.\u001b[0m\u001b[0mhost\u001b[0m\u001b[0;34m,\u001b[0m \u001b[0mself\u001b[0m\u001b[0;34m.\u001b[0m\u001b[0mport\u001b[0m\u001b[0;34m)\u001b[0m\u001b[0;34m,\u001b[0m \u001b[0mself\u001b[0m\u001b[0;34m.\u001b[0m\u001b[0mconnect_timeout\u001b[0m\u001b[0;34m,\u001b[0m\u001b[0;34m\u001b[0m\u001b[0;34m\u001b[0m\u001b[0m\n\u001b[0;32m--> 583\u001b[0;31m                                 **kwargs)\n\u001b[0m\u001b[1;32m    584\u001b[0m                             \u001b[0;32mbreak\u001b[0m\u001b[0;34m\u001b[0m\u001b[0;34m\u001b[0m\u001b[0m\n",
      "\u001b[0;32m~/anaconda3/envs/dash_readout/lib/python3.7/socket.py\u001b[0m in \u001b[0;36mcreate_connection\u001b[0;34m(address, timeout, source_address)\u001b[0m\n\u001b[1;32m    706\u001b[0m     \u001b[0merr\u001b[0m \u001b[0;34m=\u001b[0m \u001b[0;32mNone\u001b[0m\u001b[0;34m\u001b[0m\u001b[0;34m\u001b[0m\u001b[0m\n\u001b[0;32m--> 707\u001b[0;31m     \u001b[0;32mfor\u001b[0m \u001b[0mres\u001b[0m \u001b[0;32min\u001b[0m \u001b[0mgetaddrinfo\u001b[0m\u001b[0;34m(\u001b[0m\u001b[0mhost\u001b[0m\u001b[0;34m,\u001b[0m \u001b[0mport\u001b[0m\u001b[0;34m,\u001b[0m \u001b[0;36m0\u001b[0m\u001b[0;34m,\u001b[0m \u001b[0mSOCK_STREAM\u001b[0m\u001b[0;34m)\u001b[0m\u001b[0;34m:\u001b[0m\u001b[0;34m\u001b[0m\u001b[0;34m\u001b[0m\u001b[0m\n\u001b[0m\u001b[1;32m    708\u001b[0m         \u001b[0maf\u001b[0m\u001b[0;34m,\u001b[0m \u001b[0msocktype\u001b[0m\u001b[0;34m,\u001b[0m \u001b[0mproto\u001b[0m\u001b[0;34m,\u001b[0m \u001b[0mcanonname\u001b[0m\u001b[0;34m,\u001b[0m \u001b[0msa\u001b[0m \u001b[0;34m=\u001b[0m \u001b[0mres\u001b[0m\u001b[0;34m\u001b[0m\u001b[0;34m\u001b[0m\u001b[0m\n",
      "\u001b[0;32m~/anaconda3/envs/dash_readout/lib/python3.7/socket.py\u001b[0m in \u001b[0;36mgetaddrinfo\u001b[0;34m(host, port, family, type, proto, flags)\u001b[0m\n\u001b[1;32m    747\u001b[0m     \u001b[0maddrlist\u001b[0m \u001b[0;34m=\u001b[0m \u001b[0;34m[\u001b[0m\u001b[0;34m]\u001b[0m\u001b[0;34m\u001b[0m\u001b[0;34m\u001b[0m\u001b[0m\n\u001b[0;32m--> 748\u001b[0;31m     \u001b[0;32mfor\u001b[0m \u001b[0mres\u001b[0m \u001b[0;32min\u001b[0m \u001b[0m_socket\u001b[0m\u001b[0;34m.\u001b[0m\u001b[0mgetaddrinfo\u001b[0m\u001b[0;34m(\u001b[0m\u001b[0mhost\u001b[0m\u001b[0;34m,\u001b[0m \u001b[0mport\u001b[0m\u001b[0;34m,\u001b[0m \u001b[0mfamily\u001b[0m\u001b[0;34m,\u001b[0m \u001b[0mtype\u001b[0m\u001b[0;34m,\u001b[0m \u001b[0mproto\u001b[0m\u001b[0;34m,\u001b[0m \u001b[0mflags\u001b[0m\u001b[0;34m)\u001b[0m\u001b[0;34m:\u001b[0m\u001b[0;34m\u001b[0m\u001b[0;34m\u001b[0m\u001b[0m\n\u001b[0m\u001b[1;32m    749\u001b[0m         \u001b[0maf\u001b[0m\u001b[0;34m,\u001b[0m \u001b[0msocktype\u001b[0m\u001b[0;34m,\u001b[0m \u001b[0mproto\u001b[0m\u001b[0;34m,\u001b[0m \u001b[0mcanonname\u001b[0m\u001b[0;34m,\u001b[0m \u001b[0msa\u001b[0m \u001b[0;34m=\u001b[0m \u001b[0mres\u001b[0m\u001b[0;34m\u001b[0m\u001b[0;34m\u001b[0m\u001b[0m\n",
      "\u001b[0;31mgaierror\u001b[0m: [Errno 8] nodename nor servname provided, or not known",
      "\nDuring handling of the above exception, another exception occurred:\n",
      "\u001b[0;31mOperationalError\u001b[0m                          Traceback (most recent call last)",
      "\u001b[0;32m<ipython-input-53-cdcee633bbb3>\u001b[0m in \u001b[0;36m<module>\u001b[0;34m\u001b[0m\n\u001b[1;32m     51\u001b[0m \u001b[0mlstValues\u001b[0m \u001b[0;34m=\u001b[0m \u001b[0;34m[\u001b[0m\u001b[0;34m'10'\u001b[0m\u001b[0;34m,\u001b[0m \u001b[0;34m'30'\u001b[0m\u001b[0;34m]\u001b[0m\u001b[0;34m\u001b[0m\u001b[0;34m\u001b[0m\u001b[0m\n\u001b[1;32m     52\u001b[0m \u001b[0;34m\u001b[0m\u001b[0m\n\u001b[0;32m---> 53\u001b[0;31m \u001b[0minsert_into_DB\u001b[0m\u001b[0;34m(\u001b[0m\u001b[0mtableName\u001b[0m\u001b[0;34m,\u001b[0m \u001b[0mlstCols\u001b[0m\u001b[0;34m,\u001b[0m \u001b[0mlstValues\u001b[0m\u001b[0;34m,\u001b[0m \u001b[0muser\u001b[0m\u001b[0;34m,\u001b[0m \u001b[0mpw\u001b[0m\u001b[0;34m)\u001b[0m\u001b[0;34m\u001b[0m\u001b[0;34m\u001b[0m\u001b[0m\n\u001b[0m",
      "\u001b[0;32m<ipython-input-53-cdcee633bbb3>\u001b[0m in \u001b[0;36minsert_into_DB\u001b[0;34m(tableName, lstCols, lstValues, username, password)\u001b[0m\n\u001b[1;32m     23\u001b[0m                                          \u001b[0mdb\u001b[0m\u001b[0;34m=\u001b[0m\u001b[0;34m\"NG_twofast_DB\"\u001b[0m\u001b[0;34m,\u001b[0m \u001b[0;31m# name of the database\u001b[0m\u001b[0;34m\u001b[0m\u001b[0;34m\u001b[0m\u001b[0m\n\u001b[1;32m     24\u001b[0m                                          \u001b[0mcharset\u001b[0m\u001b[0;34m=\u001b[0m\u001b[0;34m'utf8'\u001b[0m\u001b[0;34m,\u001b[0m\u001b[0;34m\u001b[0m\u001b[0;34m\u001b[0m\u001b[0m\n\u001b[0;32m---> 25\u001b[0;31m \t\t\t\t\t cursorclass=pymysql.cursors.DictCursor)\n\u001b[0m\u001b[1;32m     26\u001b[0m         \u001b[0mcur\u001b[0m \u001b[0;34m=\u001b[0m \u001b[0mdb\u001b[0m\u001b[0;34m.\u001b[0m\u001b[0mcursor\u001b[0m\u001b[0;34m(\u001b[0m\u001b[0;34m)\u001b[0m\u001b[0;34m\u001b[0m\u001b[0;34m\u001b[0m\u001b[0m\n\u001b[1;32m     27\u001b[0m \u001b[0;34m\u001b[0m\u001b[0m\n",
      "\u001b[0;32m~/anaconda3/envs/dash_readout/lib/python3.7/site-packages/pymysql/__init__.py\u001b[0m in \u001b[0;36mConnect\u001b[0;34m(*args, **kwargs)\u001b[0m\n\u001b[1;32m     92\u001b[0m     \"\"\"\n\u001b[1;32m     93\u001b[0m     \u001b[0;32mfrom\u001b[0m \u001b[0;34m.\u001b[0m\u001b[0mconnections\u001b[0m \u001b[0;32mimport\u001b[0m \u001b[0mConnection\u001b[0m\u001b[0;34m\u001b[0m\u001b[0;34m\u001b[0m\u001b[0m\n\u001b[0;32m---> 94\u001b[0;31m     \u001b[0;32mreturn\u001b[0m \u001b[0mConnection\u001b[0m\u001b[0;34m(\u001b[0m\u001b[0;34m*\u001b[0m\u001b[0margs\u001b[0m\u001b[0;34m,\u001b[0m \u001b[0;34m**\u001b[0m\u001b[0mkwargs\u001b[0m\u001b[0;34m)\u001b[0m\u001b[0;34m\u001b[0m\u001b[0;34m\u001b[0m\u001b[0m\n\u001b[0m\u001b[1;32m     95\u001b[0m \u001b[0;34m\u001b[0m\u001b[0m\n\u001b[1;32m     96\u001b[0m \u001b[0;32mfrom\u001b[0m \u001b[0;34m.\u001b[0m \u001b[0;32mimport\u001b[0m \u001b[0mconnections\u001b[0m \u001b[0;32mas\u001b[0m \u001b[0m_orig_conn\u001b[0m\u001b[0;34m\u001b[0m\u001b[0;34m\u001b[0m\u001b[0m\n",
      "\u001b[0;32m~/anaconda3/envs/dash_readout/lib/python3.7/site-packages/pymysql/connections.py\u001b[0m in \u001b[0;36m__init__\u001b[0;34m(self, host, user, password, database, port, unix_socket, charset, sql_mode, read_default_file, conv, use_unicode, client_flag, cursorclass, init_command, connect_timeout, ssl, read_default_group, compress, named_pipe, autocommit, db, passwd, local_infile, max_allowed_packet, defer_connect, auth_plugin_map, read_timeout, write_timeout, bind_address, binary_prefix, program_name, server_public_key)\u001b[0m\n\u001b[1;32m    323\u001b[0m             \u001b[0mself\u001b[0m\u001b[0;34m.\u001b[0m\u001b[0m_sock\u001b[0m \u001b[0;34m=\u001b[0m \u001b[0;32mNone\u001b[0m\u001b[0;34m\u001b[0m\u001b[0;34m\u001b[0m\u001b[0m\n\u001b[1;32m    324\u001b[0m         \u001b[0;32melse\u001b[0m\u001b[0;34m:\u001b[0m\u001b[0;34m\u001b[0m\u001b[0;34m\u001b[0m\u001b[0m\n\u001b[0;32m--> 325\u001b[0;31m             \u001b[0mself\u001b[0m\u001b[0;34m.\u001b[0m\u001b[0mconnect\u001b[0m\u001b[0;34m(\u001b[0m\u001b[0;34m)\u001b[0m\u001b[0;34m\u001b[0m\u001b[0;34m\u001b[0m\u001b[0m\n\u001b[0m\u001b[1;32m    326\u001b[0m \u001b[0;34m\u001b[0m\u001b[0m\n\u001b[1;32m    327\u001b[0m     \u001b[0;32mdef\u001b[0m \u001b[0m_create_ssl_ctx\u001b[0m\u001b[0;34m(\u001b[0m\u001b[0mself\u001b[0m\u001b[0;34m,\u001b[0m \u001b[0msslp\u001b[0m\u001b[0;34m)\u001b[0m\u001b[0;34m:\u001b[0m\u001b[0;34m\u001b[0m\u001b[0;34m\u001b[0m\u001b[0m\n",
      "\u001b[0;32m~/anaconda3/envs/dash_readout/lib/python3.7/site-packages/pymysql/connections.py\u001b[0m in \u001b[0;36mconnect\u001b[0;34m(self, sock)\u001b[0m\n\u001b[1;32m    628\u001b[0m                 \u001b[0mexc\u001b[0m\u001b[0;34m.\u001b[0m\u001b[0mtraceback\u001b[0m \u001b[0;34m=\u001b[0m \u001b[0mtraceback\u001b[0m\u001b[0;34m.\u001b[0m\u001b[0mformat_exc\u001b[0m\u001b[0;34m(\u001b[0m\u001b[0;34m)\u001b[0m\u001b[0;34m\u001b[0m\u001b[0;34m\u001b[0m\u001b[0m\n\u001b[1;32m    629\u001b[0m                 \u001b[0;32mif\u001b[0m \u001b[0mDEBUG\u001b[0m\u001b[0;34m:\u001b[0m \u001b[0mprint\u001b[0m\u001b[0;34m(\u001b[0m\u001b[0mexc\u001b[0m\u001b[0;34m.\u001b[0m\u001b[0mtraceback\u001b[0m\u001b[0;34m)\u001b[0m\u001b[0;34m\u001b[0m\u001b[0;34m\u001b[0m\u001b[0m\n\u001b[0;32m--> 630\u001b[0;31m                 \u001b[0;32mraise\u001b[0m \u001b[0mexc\u001b[0m\u001b[0;34m\u001b[0m\u001b[0;34m\u001b[0m\u001b[0m\n\u001b[0m\u001b[1;32m    631\u001b[0m \u001b[0;34m\u001b[0m\u001b[0m\n\u001b[1;32m    632\u001b[0m             \u001b[0;31m# If e is neither DatabaseError or IOError, It's a bug.\u001b[0m\u001b[0;34m\u001b[0m\u001b[0;34m\u001b[0m\u001b[0;34m\u001b[0m\u001b[0m\n",
      "\u001b[0;31mOperationalError\u001b[0m: (2003, \"Can't connect to MySQL server on 'twofast-RPi3-0' ([Errno 8] nodename nor servname provided, or not known)\")"
     ]
    }
   ],
   "source": [
    "import pandas as pd\n",
    "import pymysql\n",
    "\n",
    "\n",
    "# read password and user to database\n",
    "credentials_file = r'./credentials.pw'\n",
    "\n",
    "credentials = pd.read_csv(credentials_file, header=0)\n",
    "user = credentials['username'].values[0]\n",
    "pw = credentials['password'].values[0]\n",
    "\n",
    "\n",
    "def insert_into_DB(tableName, lstCols, lstValues, username, password):\n",
    "\t\"\"\"\n",
    "\tInserts a new row in the database in the table tableName. The column names should be in the form of a list and the respective\n",
    "\tvalues should also be a list in the order of the columns to be updated into.\n",
    "\t\"\"\"\n",
    "\n",
    "\t# connect to the database\n",
    "\tdb = pymysql.connect(host=\"twofast-RPi3-0\",  # your host\n",
    "\t\t\t\t\t user=username,  # username\n",
    "\t\t\t\t\t passwd=password,  # password\n",
    "\t\t\t\t\t db=\"NG_twofast_DB\", # name of the database\n",
    "\t\t\t\t\t charset='utf8',\n",
    "\t\t\t\t\t cursorclass=pymysql.cursors.DictCursor)\n",
    "\tcur = db.cursor()\n",
    "\n",
    "\t# SQL statement execution\n",
    "\t# Assert that the length of the columns matches the length of the values\n",
    "\tassert len(lstCols) == len(lstValues)\n",
    "\n",
    "\t# IF only power or frequency to update, i.e. one value\n",
    "\tif len(lstCols) == 1:\n",
    "\t\ttry:\n",
    "\t\t\tcur.execute(\"INSERT INTO %(tablename)s (%(col)s) VALUES (%(val)s)\" % {\"tablename\": tableName, \"col\": lstCols[0], \"val\":lstValues[0]})\n",
    "\t\texcept:\n",
    "\t\t\tcur.rollback()\n",
    "\telse:\n",
    "\t# more than one value to update\n",
    "\t\ttry:\n",
    "\t\t\tcur.execute(\"INSERT INTO %(tablename)s (%(col1)s, %(col2)s) VALUES (%(val1)s, %(val2)s)\" % {\"tablename\": tableName, \"col1\": lstCols[0], \"col2\": lstCols[1], \"val1\":lstValues[0], \"val2\":lstValues[1]})\n",
    "\t\texcept:\n",
    "\t\t\tcur.rollback()\n",
    "# cursor.execute(\"SELECT * FROM %(tablename)s\" % {\"tablename\": \"activity\"})\n",
    "\n",
    "\tdb.commit()\n",
    "\tcur.close()\n",
    "\n",
    "tableName = 'microwave_generator_temperature'\n",
    "lstCols = ['temperature1', 'temperature2']\n",
    "lstValues = ['10', '30']\n",
    "\n",
    "insert_into_DB(tableName, lstCols, lstValues, user, pw)"
   ]
  },
  {
   "cell_type": "code",
   "execution_count": 55,
   "metadata": {},
   "outputs": [],
   "source": [
    "# read password and user to database\n",
    "credentials_file = r'./credentials.pw'\n",
    "\n",
    "credentials = pd.read_csv(credentials_file, header=0)\n",
    "user = credentials['username'].values[0]\n",
    "pw = credentials['password'].values[0]\n",
    "\n",
    "db = pymysql.connect(host=\"twofast-RPi3-0\",  # your host\n",
    "                 user=user,  # username\n",
    "                 passwd=pw,  # password\n",
    "                 db=\"NG_twofast_DB\", # name of the database\n",
    "                 charset='utf8',\n",
    "                 cursorclass=pymysql.cursors.DictCursor)\n",
    "cur = db.cursor()\n",
    "\n",
    "try:\n",
    "    cur.execute(\"INSERT INTO microwave_generator_control (command, executed) VALUES ('a 1 test', 0)\")\n",
    "except:\n",
    "    cur.rollback()\n",
    "\n",
    "# cursor.execute(\"SELECT * FROM %(tablename)s\" % {\"tablename\": \"activity\"})\n",
    "\n",
    "db.commit()\n",
    "cur.close()\n"
   ]
  },
  {
   "cell_type": "code",
   "execution_count": 56,
   "metadata": {},
   "outputs": [
    {
     "name": "stdout",
     "output_type": "stream",
     "text": [
      "a 3 test 1\n",
      "a 1 test 2\n"
     ]
    }
   ],
   "source": [
    "mysql_connection = pymysql.connect(host=\"twofast-RPi3-0\",  # your host\n",
    "                 user=user,  # username\n",
    "                 passwd=pw,  # password\n",
    "                 db=\"NG_twofast_DB\", # name of the database\n",
    "                 charset='utf8',\n",
    "                 cursorclass=pymysql.cursors.DictCursor)\n",
    "\n",
    "def getCommandsToExecute(mysql_connection):\n",
    "    \"\"\"\n",
    "    Get the last 10 commands that were not executed\n",
    "    \"\"\"\n",
    "    query = \"SELECT * FROM microwave_generator_control WHERE executed = 0 ORDER BY time_created ASC LIMIT 10\"\n",
    "    df = pd.read_sql(query, mysql_connection)\n",
    "\n",
    "\n",
    "    return df\n",
    "\n",
    "df = getCommandsToExecute(mysql_connection)\n",
    "for index, row in df.iterrows():\n",
    "    print(row['command'], row['id'])"
   ]
  },
  {
   "cell_type": "code",
   "execution_count": 57,
   "metadata": {},
   "outputs": [],
   "source": [
    "def updateCommandAsExecuted(command_id, timeExecuted):\n",
    "    \"\"\"\n",
    "    After the command was sent to the microwave generator (and no error returned), update in the database that the command has been sent.\n",
    "    \"\"\"\n",
    "    timeExecuted = timeExecuted.strftime('%Y-%m-%d %H:%M:%S')\n",
    "    cur = db.cursor()\n",
    "    try:\n",
    "        cur.execute(\"UPDATE microwave_generator_control SET executed = 1, time_executed = '%(time)s' WHERE id = %(commandId)s\" % {\"time\": timeExecuted, \"commandId\": command_id })\n",
    "        cur.execute(\"INSERT INTO microwave_generator_control (command, executed) VALUES ('from other function', 0)\")\n",
    "    except:\n",
    "        cur.rollback()\n",
    "\n",
    "    db.commit()\n",
    "    cur.close()\n",
    "\n",
    "\n",
    "command_id = 1\n",
    "import datetime\n",
    "timeExecuted = datetime.datetime.now()\n",
    "updateCommandAsExecuted(command_id, timeExecuted)"
   ]
  },
  {
   "cell_type": "code",
   "execution_count": 107,
   "metadata": {},
   "outputs": [
    {
     "data": {
      "text/plain": [
       "'2019-06-27 16:44:20'"
      ]
     },
     "execution_count": 107,
     "metadata": {},
     "output_type": "execute_result"
    }
   ],
   "source": [
    "import datetime\n",
    "s = datetime.datetime.now()\n",
    "import time    \n",
    "s.strftime('%Y-%m-%d %H:%M:%S')"
   ]
  },
  {
   "cell_type": "code",
   "execution_count": 67,
   "metadata": {},
   "outputs": [
    {
     "name": "stdout",
     "output_type": "stream",
     "text": [
      "[('19.0', '0.2')]\n"
     ]
    }
   ],
   "source": [
    "import re\n",
    "cmd = '$FRPG'\n",
    "response='$FRPG:19.0W,0.2W'\n",
    "\n",
    "t_ = re.findall(r':(\\d+\\.\\d)W,(\\d+\\.\\d)W', response)\n",
    "print(t_)\n",
    "if (len(t_) > 0) & (cmd in response):\n",
    "    power_out = t_[0]\n",
    "    power_reflected = t_[0]\n",
    "\n"
   ]
  },
  {
   "cell_type": "code",
   "execution_count": 59,
   "metadata": {},
   "outputs": [
    {
     "ename": "ValueError",
     "evalue": "not enough values to unpack (expected 11, got 2)",
     "output_type": "error",
     "traceback": [
      "\u001b[0;31m---------------------------------------------------------------------------\u001b[0m",
      "\u001b[0;31mValueError\u001b[0m                                Traceback (most recent call last)",
      "\u001b[0;32m<ipython-input-59-06e65fee4a8c>\u001b[0m in \u001b[0;36m<module>\u001b[0;34m\u001b[0m\n\u001b[0;32m----> 1\u001b[0;31m \u001b[0mfrequency_soll\u001b[0m\u001b[0;34m,\u001b[0m \u001b[0mpower_soll\u001b[0m\u001b[0;34m,\u001b[0m \u001b[0mtemp1\u001b[0m\u001b[0;34m,\u001b[0m \u001b[0mtemp2\u001b[0m\u001b[0;34m,\u001b[0m \u001b[0mrelais_5\u001b[0m\u001b[0;34m,\u001b[0m \u001b[0mrelais_24\u001b[0m\u001b[0;34m,\u001b[0m \u001b[0mrf_status\u001b[0m\u001b[0;34m,\u001b[0m \u001b[0mpower_out\u001b[0m\u001b[0;34m,\u001b[0m \u001b[0mpower_reflected\u001b[0m\u001b[0;34m,\u001b[0m \u001b[0mDLL_frequency\u001b[0m\u001b[0;34m,\u001b[0m \u001b[0mDLL_reflexion\u001b[0m \u001b[0;34m=\u001b[0m \u001b[0;34m'-1'\u001b[0m\u001b[0;34m\u001b[0m\u001b[0;34m\u001b[0m\u001b[0m\n\u001b[0m",
      "\u001b[0;31mValueError\u001b[0m: not enough values to unpack (expected 11, got 2)"
     ]
    }
   ],
   "source": [
    "frequency_soll, power_soll, temp1, temp2, relais_5, relais_24, rf_status, power_out, power_reflected, DLL_frequency, DLL_reflexion = '-1'"
   ]
  },
  {
   "cell_type": "code",
   "execution_count": 72,
   "metadata": {},
   "outputs": [
    {
     "data": {
      "text/plain": [
       "'2019-06-28 19:15:54'"
      ]
     },
     "execution_count": 72,
     "metadata": {},
     "output_type": "execute_result"
    }
   ],
   "source": [
    "import time, datetime\n",
    "datetime.datetime.now().strftime('%Y-%m-%d %H:%M:%S')\n"
   ]
  },
  {
   "cell_type": "code",
   "execution_count": 108,
   "metadata": {},
   "outputs": [],
   "source": [
    "# read password and user to database\n",
    "credentials_file = r'./credentials.pw'\n",
    "\n",
    "credentials = pd.read_csv(credentials_file, header=0)\n",
    "user = credentials['username'].values[0]\n",
    "pw = credentials['password'].values[0]\n",
    "mysql_connection = pymysql.connect(host=\"twofast-RPi3-0\",  # your host\n",
    "                 user=user,  # username\n",
    "                 passwd=pw,  # password\n",
    "                 db=\"NG_twofast_DB\", # name of the database\n",
    "                 charset='utf8',\n",
    "                 cursorclass=pymysql.cursors.DictCursor)\n",
    "\n",
    "\n",
    "def insertMicrowaveReadoutIntoTable(frequency_soll, power_soll, temp1, temp2, relais_5, relais_24, rf_status, power_out, power_reflected, mysql_connection):\n",
    "\tcur = mysql_connection.cursor()\n",
    "\ttry:\n",
    "\t\tif float(frequency_soll) > -1:\n",
    "\t\t\tcur.execute(\"INSERT INTO microwave_generator_frequency (frequency) VALUES (%(val)s)\" % {\"val\": frequency_soll})\n",
    "\t\tif float(power_soll) > -1:\n",
    "\t\t\tcur.execute(\"INSERT INTO microwave_generator_power (power) VALUES (%(val)s)\" % {\"val\": power_soll})\n",
    "\t\tif (float(temp1) > -1) & (float(temp2) > -1):\n",
    "\t\t\tcur.execute(\"INSERT INTO microwave_generator_temperature (temperature1, temperature2) VALUES (%(val1)s, %(val2)s)\" % {\"val1\": temp1, \"val2\": temp2})\n",
    "\t\tif float(relais_5) > -1:\n",
    "\t\t\tcur.execute(\"INSERT INTO microwave_generator_state (relais_5) VALUES (%(relais_5)s)\" % {\"relais_5\": relais_5})\n",
    "\t\tif float(relais_24) > -1:\n",
    "\t\t\tcur.execute(\"INSERT INTO microwave_generator_state (relais_24) VALUES (%(relais_24)s)\" % {\"relais_24\": relais_24})\n",
    "\t\tif float(rf_status) > -1:\n",
    "\t\t\tcur.execute(\"INSERT INTO microwave_generator_state (rf_status) VALUES (%(rf_status)s)\" % {\"rf_status\": rf_status})\n",
    "\t\tif (float(power_out) > -1) & (float(power_reflected) > -1):\n",
    "\t\t\tcur.execute(\"INSERT INTO microwave_generator_reflected_power (power_out, power_reflected) VALUES (%(power_out)s, %(power_reflected)s)\" % {\"power_out\": power_out, \"power_reflected\": power_reflected})\n",
    "\n",
    "\texcept:\n",
    "\t\tcur.rollback()\n",
    "\n",
    "\tmysql_connection.commit()\n",
    "\tcur.close()"
   ]
  },
  {
   "cell_type": "code",
   "execution_count": 112,
   "metadata": {},
   "outputs": [],
   "source": [
    "frequency_soll = 1\n",
    "power_soll = 2\n",
    "temp1 = 3\n",
    "temp2 = 4\n",
    "relais_5 = 1\n",
    "relais_24 = 1\n",
    "rf_status = 1\n",
    "power_out = 5\n",
    "power_reflected = -1\n",
    "insertMicrowaveReadoutIntoTable(frequency_soll, power_soll, temp1, temp2, relais_5, relais_24, rf_status, power_out, power_reflected, mysql_connection)"
   ]
  },
  {
   "cell_type": "code",
   "execution_count": 120,
   "metadata": {},
   "outputs": [
    {
     "name": "stdout",
     "output_type": "stream",
     "text": [
      "48.5 ms ± 1.14 ms per loop (mean ± std. dev. of 7 runs, 10 loops each)\n"
     ]
    }
   ],
   "source": [
    "query = \"SELECT * FROM `data_referenceDetectors` LIMIT 1000\"\n",
    "%timeit df = pd.read_sql(query, mysql_connection)\n",
    "df = pd.read_sql(query, mysql_connection)"
   ]
  },
  {
   "cell_type": "code",
   "execution_count": 113,
   "metadata": {},
   "outputs": [],
   "source": [
    "mysql_connection = pymysql.connect(host=\"twofast-RPi3-0\",  # your host\n",
    "\t\t\t\t user=user,  # username\n",
    "\t\t\t\t passwd=pw,  # password\n",
    "\t\t\t\t db=\"NG_twofast_DB\", # name of the database\n",
    "\t\t\t\t charset='utf8',\n",
    "\t\t\t\t cursorclass=pymysql.cursors.DictCursor)\n",
    "\n",
    "\n",
    "# truncate the control table\n",
    "cur = mysql_connection.cursor()\n",
    "try:\n",
    "\tcur.execute(\"TRUNCATE TABLE microwave_generator_control\")\n",
    "except:\n",
    "\tcur.rollback()\n",
    "\n",
    "mysql_connection.commit()\n",
    "cur.close()"
   ]
  },
  {
   "cell_type": "code",
   "execution_count": null,
   "metadata": {},
   "outputs": [],
   "source": []
  }
 ],
 "metadata": {
  "kernelspec": {
   "display_name": "Python 3",
   "language": "python",
   "name": "python3"
  },
  "language_info": {
   "codemirror_mode": {
    "name": "ipython",
    "version": 3
   },
   "file_extension": ".py",
   "mimetype": "text/x-python",
   "name": "python",
   "nbconvert_exporter": "python",
   "pygments_lexer": "ipython3",
   "version": "3.7.3"
  }
 },
 "nbformat": 4,
 "nbformat_minor": 2
}
