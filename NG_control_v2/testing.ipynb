{
 "cells": [
  {
   "cell_type": "code",
   "execution_count": 6,
   "metadata": {},
   "outputs": [
    {
     "name": "stdout",
     "output_type": "stream",
     "text": [
      "writer heiko\n"
     ]
    }
   ],
   "source": [
    "import pandas as pd\n",
    "\n",
    "# read password and user to database\n",
    "credentials_file = r'./credentials.pw'\n",
    "credentials = pd.read_csv(credentials_file, header=0)\n",
    "user = credentials['username'].values[0]\n",
    "pw = credentials['password'].values[0]\n"
   ]
  },
  {
   "cell_type": "code",
   "execution_count": 39,
   "metadata": {},
   "outputs": [
    {
     "data": {
      "text/plain": [
       "0"
      ]
     },
     "execution_count": 39,
     "metadata": {},
     "output_type": "execute_result"
    }
   ],
   "source": [
    "11%11"
   ]
  },
  {
   "cell_type": "code",
   "execution_count": 51,
   "metadata": {},
   "outputs": [],
   "source": [
    "numbers = [ii for ii in range(1,101)]\n",
    "primes = []\n",
    "\n",
    "def isPrime(number):\n",
    "    rest = []\n",
    "    for jj in range(2,number):\n",
    "        rest.append(number%jj)\n",
    "    if 0 in rest:\n",
    "        return False\n",
    "    else: \n",
    "        return True\n",
    "            \n",
    "\n",
    "for n in numbers:\n",
    "    if isPrime(n) == 1:\n",
    "        primes.append(n)"
   ]
  },
  {
   "cell_type": "code",
   "execution_count": 52,
   "metadata": {},
   "outputs": [
    {
     "data": {
      "text/plain": [
       "[1,\n",
       " 2,\n",
       " 3,\n",
       " 5,\n",
       " 7,\n",
       " 11,\n",
       " 13,\n",
       " 17,\n",
       " 19,\n",
       " 23,\n",
       " 29,\n",
       " 31,\n",
       " 37,\n",
       " 41,\n",
       " 43,\n",
       " 47,\n",
       " 53,\n",
       " 59,\n",
       " 61,\n",
       " 67,\n",
       " 71,\n",
       " 73,\n",
       " 79,\n",
       " 83,\n",
       " 89,\n",
       " 97]"
      ]
     },
     "execution_count": 52,
     "metadata": {},
     "output_type": "execute_result"
    }
   ],
   "source": [
    "primes"
   ]
  },
  {
   "cell_type": "code",
   "execution_count": 73,
   "metadata": {},
   "outputs": [],
   "source": [
    "import pandas as pd\n",
    "import pymysql\n",
    "\n",
    "\n",
    "# read password and user to database\n",
    "credentials_file = r'./credentials.pw'\n",
    "\n",
    "credentials = pd.read_csv(credentials_file, header=0)\n",
    "user = credentials['username'].values[0]\n",
    "pw = credentials['password'].values[0]\n",
    "\n",
    "\n",
    "def insert_into_DB(tableName, lstCols, lstValues, username, password):\n",
    "\t\"\"\"\n",
    "\tInserts a new row in the database in the table tableName. The column names should be in the form of a list and the respective\n",
    "\tvalues should also be a list in the order of the columns to be updated into.\n",
    "\t\"\"\"\n",
    "\n",
    "\t# connect to the database\n",
    "\tdb = pymysql.connect(host=\"twofast-RPi3-0\",  # your host\n",
    "\t\t\t\t\t user=username,  # username\n",
    "\t\t\t\t\t passwd=password,  # password\n",
    "\t\t\t\t\t db=\"NG_twofast_DB\", # name of the database\n",
    "\t\t\t\t\t charset='utf8',\n",
    "\t\t\t\t\t cursorclass=pymysql.cursors.DictCursor)\n",
    "\tcur = db.cursor()\n",
    "\n",
    "\t# SQL statement execution\n",
    "\t# Assert that the length of the columns matches the length of the values\n",
    "\tassert len(lstCols) == len(lstValues)\n",
    "\n",
    "\t# IF only power or frequency to update, i.e. one value\n",
    "\tif len(lstCols) == 1:\n",
    "\t\ttry:\n",
    "\t\t\tcur.execute(\"INSERT INTO %(tablename)s (%(col)s) VALUES (%(val)s)\" % {\"tablename\": tableName, \"col\": lstCols[0], \"val\":lstValues[0]})\n",
    "\t\texcept:\n",
    "\t\t\tcur.rollback()\n",
    "\telse:\n",
    "\t# more than one value to update\n",
    "\t\ttry:\n",
    "\t\t\tcur.execute(\"INSERT INTO %(tablename)s (%(col1)s, %(col2)s) VALUES (%(val1)s, %(val2)s)\" % {\"tablename\": tableName, \"col1\": lstCols[0], \"col2\": lstCols[1], \"val1\":lstValues[0], \"val2\":lstValues[1]})\n",
    "\t\texcept:\n",
    "\t\t\tcur.rollback()\n",
    "# cursor.execute(\"SELECT * FROM %(tablename)s\" % {\"tablename\": \"activity\"})\n",
    "\n",
    "\tdb.commit()\n",
    "\tcur.close()\n",
    "\n",
    "tableName = 'microwave_generator_temperature'\n",
    "lstCols = ['temperature1', 'temperature2']\n",
    "lstValues = ['10', '30']\n",
    "\n",
    "insert_into_DB(tableName, lstCols, lstValues, user, pw)"
   ]
  },
  {
   "cell_type": "code",
   "execution_count": 135,
   "metadata": {},
   "outputs": [],
   "source": [
    "# read password and user to database\n",
    "credentials_file = r'./credentials.pw'\n",
    "\n",
    "credentials = pd.read_csv(credentials_file, header=0)\n",
    "user = credentials['username'].values[0]\n",
    "pw = credentials['password'].values[0]\n",
    "\n",
    "db = pymysql.connect(host=\"twofast-RPi3-0\",  # your host\n",
    "                 user=user,  # username\n",
    "                 passwd=pw,  # password\n",
    "                 db=\"NG_twofast_DB\", # name of the database\n",
    "                 charset='utf8',\n",
    "                 cursorclass=pymysql.cursors.DictCursor)\n",
    "cur = db.cursor()\n",
    "\n",
    "try:\n",
    "    cur.execute(\"INSERT INTO microwave_generator_control (command, executed) VALUES ('a 3 test', 0)\")\n",
    "except:\n",
    "    cur.rollback()\n",
    "\n",
    "# cursor.execute(\"SELECT * FROM %(tablename)s\" % {\"tablename\": \"activity\"})\n",
    "\n",
    "db.commit()\n",
    "cur.close()\n"
   ]
  },
  {
   "cell_type": "code",
   "execution_count": 137,
   "metadata": {},
   "outputs": [
    {
     "name": "stdout",
     "output_type": "stream",
     "text": [
      "a 1 test 1\n",
      "a 2 test 2\n",
      "a 3 test 3\n"
     ]
    }
   ],
   "source": [
    "mysql_connection = pymysql.connect(host=\"twofast-RPi3-0\",  # your host\n",
    "                 user=user,  # username\n",
    "                 passwd=pw,  # password\n",
    "                 db=\"NG_twofast_DB\", # name of the database\n",
    "                 charset='utf8',\n",
    "                 cursorclass=pymysql.cursors.DictCursor)\n",
    "\n",
    "def getCommandsToExecute(mysql_connection):\n",
    "    \"\"\"\n",
    "    Get the last 10 commands that were not executed\n",
    "    \"\"\"\n",
    "    query = \"SELECT * FROM microwave_generator_control WHERE executed = 0 ORDER BY time_created ASC LIMIT 10\"\n",
    "    df = pd.read_sql(query, mysql_connection)\n",
    "\n",
    "\n",
    "    return df\n",
    "\n",
    "df = getCommandsToExecute(mysql_connection)\n",
    "for index, row in df.iterrows():\n",
    "    print(row['command'], row['id'])"
   ]
  },
  {
   "cell_type": "code",
   "execution_count": 116,
   "metadata": {},
   "outputs": [],
   "source": [
    "def updateCommandAsExecuted(command_id, timeExecuted):\n",
    "    \"\"\"\n",
    "    After the command was sent to the microwave generator (and no error returned), update in the database that the command has been sent.\n",
    "    \"\"\"\n",
    "    timeExecuted = timeExecuted.strftime('%Y-%m-%d %H:%M:%S')\n",
    "    cur = db.cursor()\n",
    "    try:\n",
    "        cur.execute(\"UPDATE microwave_generator_control SET executed = 1, time_executed = '%(time)s' WHERE id = %(commandId)s\" % {\"time\": timeExecuted, \"commandId\": command_id })\n",
    "    except:\n",
    "        cur.rollback()\n",
    "\n",
    "    db.commit()\n",
    "    cur.close()\n",
    "\n",
    "\n",
    "command_id = 1\n",
    "import datetime\n",
    "timeExecuted = datetime.datetime.now()\n",
    "updateCommandAsExecuted(command_id, timeExecuted)"
   ]
  },
  {
   "cell_type": "code",
   "execution_count": 107,
   "metadata": {},
   "outputs": [
    {
     "data": {
      "text/plain": [
       "'2019-06-27 16:44:20'"
      ]
     },
     "execution_count": 107,
     "metadata": {},
     "output_type": "execute_result"
    }
   ],
   "source": [
    "import datetime\n",
    "s = datetime.datetime.now()\n",
    "import time    \n",
    "s.strftime('%Y-%m-%d %H:%M:%S')"
   ]
  },
  {
   "cell_type": "code",
   "execution_count": null,
   "metadata": {},
   "outputs": [],
   "source": []
  }
 ],
 "metadata": {
  "kernelspec": {
   "display_name": "Python 3",
   "language": "python",
   "name": "python3"
  },
  "language_info": {
   "codemirror_mode": {
    "name": "ipython",
    "version": 3
   },
   "file_extension": ".py",
   "mimetype": "text/x-python",
   "name": "python",
   "nbconvert_exporter": "python",
   "pygments_lexer": "ipython3",
   "version": "3.7.3"
  }
 },
 "nbformat": 4,
 "nbformat_minor": 2
}
