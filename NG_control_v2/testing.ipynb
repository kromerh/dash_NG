{
 "cells": [
  {
   "cell_type": "code",
   "execution_count": 6,
   "metadata": {},
   "outputs": [
    {
     "name": "stdout",
     "output_type": "stream",
     "text": [
      "writer heiko\n"
     ]
    }
   ],
   "source": [
    "import pandas as pd\n",
    "\n",
    "# read password and user to database\n",
    "credentials_file = r'./credentials.pw'\n",
    "credentials = pd.read_csv(credentials_file, header=0)\n",
    "user = credentials['username'].values[0]\n",
    "pw = credentials['password'].values[0]\n"
   ]
  },
  {
   "cell_type": "code",
   "execution_count": 39,
   "metadata": {},
   "outputs": [
    {
     "data": {
      "text/plain": [
       "0"
      ]
     },
     "execution_count": 39,
     "metadata": {},
     "output_type": "execute_result"
    }
   ],
   "source": [
    "11%11"
   ]
  },
  {
   "cell_type": "code",
   "execution_count": 51,
   "metadata": {},
   "outputs": [],
   "source": [
    "numbers = [ii for ii in range(1,101)]\n",
    "primes = []\n",
    "\n",
    "def isPrime(number):\n",
    "    rest = []\n",
    "    for jj in range(2,number):\n",
    "        rest.append(number%jj)\n",
    "    if 0 in rest:\n",
    "        return False\n",
    "    else: \n",
    "        return True\n",
    "            \n",
    "\n",
    "for n in numbers:\n",
    "    if isPrime(n) == 1:\n",
    "        primes.append(n)"
   ]
  },
  {
   "cell_type": "code",
   "execution_count": 52,
   "metadata": {},
   "outputs": [
    {
     "data": {
      "text/plain": [
       "[1,\n",
       " 2,\n",
       " 3,\n",
       " 5,\n",
       " 7,\n",
       " 11,\n",
       " 13,\n",
       " 17,\n",
       " 19,\n",
       " 23,\n",
       " 29,\n",
       " 31,\n",
       " 37,\n",
       " 41,\n",
       " 43,\n",
       " 47,\n",
       " 53,\n",
       " 59,\n",
       " 61,\n",
       " 67,\n",
       " 71,\n",
       " 73,\n",
       " 79,\n",
       " 83,\n",
       " 89,\n",
       " 97]"
      ]
     },
     "execution_count": 52,
     "metadata": {},
     "output_type": "execute_result"
    }
   ],
   "source": [
    "primes"
   ]
  },
  {
   "cell_type": "code",
   "execution_count": 73,
   "metadata": {},
   "outputs": [],
   "source": [
    "import pandas as pd\n",
    "import pymysql\n",
    "\n",
    "\n",
    "# read password and user to database\n",
    "credentials_file = r'./credentials.pw'\n",
    "\n",
    "credentials = pd.read_csv(credentials_file, header=0)\n",
    "user = credentials['username'].values[0]\n",
    "pw = credentials['password'].values[0]\n",
    "\n",
    "\n",
    "def insert_into_DB(tableName, lstCols, lstValues, username, password):\n",
    "\t\"\"\"\n",
    "\tInserts a new row in the database in the table tableName. The column names should be in the form of a list and the respective\n",
    "\tvalues should also be a list in the order of the columns to be updated into.\n",
    "\t\"\"\"\n",
    "\n",
    "\t# connect to the database\n",
    "\tdb = pymysql.connect(host=\"twofast-RPi3-0\",  # your host\n",
    "\t\t\t\t\t user=username,  # username\n",
    "\t\t\t\t\t passwd=password,  # password\n",
    "\t\t\t\t\t db=\"NG_twofast_DB\", # name of the database\n",
    "\t\t\t\t\t charset='utf8',\n",
    "\t\t\t\t\t cursorclass=pymysql.cursors.DictCursor)\n",
    "\tcur = db.cursor()\n",
    "\n",
    "\t# SQL statement execution\n",
    "\t# Assert that the length of the columns matches the length of the values\n",
    "\tassert len(lstCols) == len(lstValues)\n",
    "\n",
    "\t# IF only power or frequency to update, i.e. one value\n",
    "\tif len(lstCols) == 1:\n",
    "\t\ttry:\n",
    "\t\t\tcur.execute(\"INSERT INTO %(tablename)s (%(col)s) VALUES (%(val)s)\" % {\"tablename\": tableName, \"col\": lstCols[0], \"val\":lstValues[0]})\n",
    "\t\texcept:\n",
    "\t\t\tcur.rollback()\n",
    "\telse:\n",
    "\t# more than one value to update\n",
    "\t\ttry:\n",
    "\t\t\tcur.execute(\"INSERT INTO %(tablename)s (%(col1)s, %(col2)s) VALUES (%(val1)s, %(val2)s)\" % {\"tablename\": tableName, \"col1\": lstCols[0], \"col2\": lstCols[1], \"val1\":lstValues[0], \"val2\":lstValues[1]})\n",
    "\t\texcept:\n",
    "\t\t\tcur.rollback()\n",
    "# cursor.execute(\"SELECT * FROM %(tablename)s\" % {\"tablename\": \"activity\"})\n",
    "\n",
    "\tdb.commit()\n",
    "\tcur.close()\n",
    "\n",
    "tableName = 'microwave_generator_temperature'\n",
    "lstCols = ['temperature1', 'temperature2']\n",
    "lstValues = ['10', '30']\n",
    "\n",
    "insert_into_DB(tableName, lstCols, lstValues, user, pw)"
   ]
  },
  {
   "cell_type": "code",
   "execution_count": 79,
   "metadata": {},
   "outputs": [],
   "source": [
    "# read password and user to database\n",
    "credentials_file = r'./credentials.pw'\n",
    "\n",
    "credentials = pd.read_csv(credentials_file, header=0)\n",
    "user = credentials['username'].values[0]\n",
    "pw = credentials['password'].values[0]\n",
    "\n",
    "db = pymysql.connect(host=\"twofast-RPi3-0\",  # your host\n",
    "                 user=user,  # username\n",
    "                 passwd=pw,  # password\n",
    "                 db=\"NG_twofast_DB\", # name of the database\n",
    "                 charset='utf8',\n",
    "                 cursorclass=pymysql.cursors.DictCursor)\n",
    "cur = db.cursor()\n",
    "\n",
    "try:\n",
    "    cur.execute(\"INSERT INTO microwave_generator_control (command, executed) VALUES ('a fourth test', 0)\")\n",
    "except:\n",
    "    cur.rollback()\n",
    "\n",
    "# cursor.execute(\"SELECT * FROM %(tablename)s\" % {\"tablename\": \"activity\"})\n",
    "\n",
    "db.commit()\n",
    "cur.close()\n"
   ]
  },
  {
   "cell_type": "code",
   "execution_count": 87,
   "metadata": {},
   "outputs": [
    {
     "data": {
      "text/html": [
       "<div>\n",
       "<style scoped>\n",
       "    .dataframe tbody tr th:only-of-type {\n",
       "        vertical-align: middle;\n",
       "    }\n",
       "\n",
       "    .dataframe tbody tr th {\n",
       "        vertical-align: top;\n",
       "    }\n",
       "\n",
       "    .dataframe thead th {\n",
       "        text-align: right;\n",
       "    }\n",
       "</style>\n",
       "<table border=\"1\" class=\"dataframe\">\n",
       "  <thead>\n",
       "    <tr style=\"text-align: right;\">\n",
       "      <th></th>\n",
       "      <th>time_created</th>\n",
       "      <th>time_executed</th>\n",
       "      <th>command</th>\n",
       "      <th>executed</th>\n",
       "      <th>id</th>\n",
       "    </tr>\n",
       "  </thead>\n",
       "  <tbody>\n",
       "    <tr>\n",
       "      <th>0</th>\n",
       "      <td>2019-06-26 19:44:51.325201</td>\n",
       "      <td>0000-00-00 00:00:00.000000</td>\n",
       "      <td>test</td>\n",
       "      <td>0</td>\n",
       "      <td>1</td>\n",
       "    </tr>\n",
       "    <tr>\n",
       "      <th>1</th>\n",
       "      <td>2019-06-26 19:45:08.113346</td>\n",
       "      <td>0000-00-00 00:00:00.000000</td>\n",
       "      <td>a second test</td>\n",
       "      <td>0</td>\n",
       "      <td>2</td>\n",
       "    </tr>\n",
       "    <tr>\n",
       "      <th>2</th>\n",
       "      <td>2019-06-26 19:45:14.111412</td>\n",
       "      <td>0000-00-00 00:00:00.000000</td>\n",
       "      <td>a fourth test</td>\n",
       "      <td>0</td>\n",
       "      <td>4</td>\n",
       "    </tr>\n",
       "  </tbody>\n",
       "</table>\n",
       "</div>"
      ],
      "text/plain": [
       "                time_created               time_executed        command  \\\n",
       "0 2019-06-26 19:44:51.325201  0000-00-00 00:00:00.000000           test   \n",
       "1 2019-06-26 19:45:08.113346  0000-00-00 00:00:00.000000  a second test   \n",
       "2 2019-06-26 19:45:14.111412  0000-00-00 00:00:00.000000  a fourth test   \n",
       "\n",
       "   executed  id  \n",
       "0         0   1  \n",
       "1         0   2  \n",
       "2         0   4  "
      ]
     },
     "execution_count": 87,
     "metadata": {},
     "output_type": "execute_result"
    }
   ],
   "source": [
    "mysql_connection = pymysql.connect(host=\"twofast-RPi3-0\",  # your host\n",
    "                 user=user,  # username\n",
    "                 passwd=pw,  # password\n",
    "                 db=\"NG_twofast_DB\", # name of the database\n",
    "                 charset='utf8',\n",
    "                 cursorclass=pymysql.cursors.DictCursor)\n",
    "\n",
    "def getCommandsToExecute(mysql_connection):\n",
    "    \"\"\"\n",
    "    Get the last 10 commands that were not executed\n",
    "    \"\"\"\n",
    "    query = \"SELECT * FROM microwave_generator_control WHERE executed = 0 ORDER BY time_created ASC LIMIT 10\"\n",
    "    df = pd.read_sql(query, mysql_connection)\n",
    "\n",
    "\n",
    "    return df\n",
    "\n",
    "df = getCommandsToExecute(mysql_connection)\n",
    "df"
   ]
  },
  {
   "cell_type": "code",
   "execution_count": null,
   "metadata": {},
   "outputs": [],
   "source": []
  }
 ],
 "metadata": {
  "kernelspec": {
   "display_name": "Python 3",
   "language": "python",
   "name": "python3"
  },
  "language_info": {
   "codemirror_mode": {
    "name": "ipython",
    "version": 3
   },
   "file_extension": ".py",
   "mimetype": "text/x-python",
   "name": "python",
   "nbconvert_exporter": "python",
   "pygments_lexer": "ipython3",
   "version": "3.7.3"
  }
 },
 "nbformat": 4,
 "nbformat_minor": 2
}
